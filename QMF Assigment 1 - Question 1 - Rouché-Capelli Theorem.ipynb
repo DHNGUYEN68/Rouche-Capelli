{
 "cells": [
  {
   "cell_type": "code",
   "execution_count": 1,
   "id": "9a3596f8",
   "metadata": {},
   "outputs": [
    {
     "name": "stdout",
     "output_type": "stream",
     "text": [
      "[[ 3.   0.5  1. ]\n",
      " [ 2.   0.1  0. ]\n",
      " [-1.  -1.   1. ]]\n"
     ]
    }
   ],
   "source": [
    "## Let's transform the linear equations system into matrix form A.x = b\n",
    "import numpy as np\n",
    "A=np.array( [ [3, 0.5,1],[2, 0.1,0],[-1, -1,1]])\n",
    "print(A)\n"
   ]
  },
  {
   "cell_type": "code",
   "execution_count": 2,
   "id": "cff9f0c8",
   "metadata": {},
   "outputs": [
    {
     "name": "stdout",
     "output_type": "stream",
     "text": [
      "3\n"
     ]
    }
   ],
   "source": [
    "# Let's calculate rank of matrix A\n",
    "print( np.linalg.matrix_rank(A) )"
   ]
  },
  {
   "cell_type": "code",
   "execution_count": 3,
   "id": "ec1ae365",
   "metadata": {},
   "outputs": [
    {
     "name": "stdout",
     "output_type": "stream",
     "text": [
      "[[ 3.   0.5  1.   1. ]\n",
      " [ 2.   0.1  0.   2. ]\n",
      " [-1.  -1.   1.   1. ]]\n"
     ]
    }
   ],
   "source": [
    "# Let's calculate the rank of matrix [A|b]\n",
    "# b is a vector [1 2 1]\n",
    "A2=np.array( [ [3, 0.5,1,1],[2, 0.1,0,2],[-1, -1,1,1]])\n",
    "print(A2)"
   ]
  },
  {
   "cell_type": "code",
   "execution_count": 4,
   "id": "24e567fc",
   "metadata": {},
   "outputs": [
    {
     "name": "stdout",
     "output_type": "stream",
     "text": [
      "3\n"
     ]
    }
   ],
   "source": [
    "# If the rank of  [A|b] is equal with rank of A, the solution is unique\n",
    "print( np.linalg.matrix_rank(A2) )"
   ]
  },
  {
   "cell_type": "code",
   "execution_count": 5,
   "id": "463423b8",
   "metadata": {},
   "outputs": [],
   "source": [
    "## Youpi! the solution is unique : rank[A|b] = rank[A] = 3 . Thanks to Rouché-Capelli"
   ]
  },
  {
   "cell_type": "code",
   "execution_count": 6,
   "id": "9f2f328b",
   "metadata": {},
   "outputs": [
    {
     "name": "stdout",
     "output_type": "stream",
     "text": [
      "[1 2 1]\n"
     ]
    }
   ],
   "source": [
    "#Let's define vector b\n",
    "b=np.array([1,2,1])\n",
    "print(b)"
   ]
  },
  {
   "cell_type": "code",
   "execution_count": 7,
   "id": "be344279",
   "metadata": {},
   "outputs": [],
   "source": [
    "# the rank of A is equal with the rank of A2  (aka 3)\n",
    "# therefore the solution is unique (Rouché-Capelli Theorem)\n",
    "# Now it is safe to solve the linear equations system"
   ]
  },
  {
   "cell_type": "code",
   "execution_count": 8,
   "id": "6dbe368d",
   "metadata": {},
   "outputs": [
    {
     "name": "stdout",
     "output_type": "stream",
     "text": [
      "[ 1.15384615 -3.07692308 -0.92307692]\n"
     ]
    }
   ],
   "source": [
    "x=np.linalg.solve(A,b)\n",
    "print(x)\n",
    "# x is a solution vector (x was a variable, after solving it is a solution)"
   ]
  },
  {
   "cell_type": "code",
   "execution_count": 9,
   "id": "95cf0660",
   "metadata": {},
   "outputs": [],
   "source": [
    "## checking the solution\n",
    "## A.x=b"
   ]
  },
  {
   "cell_type": "code",
   "execution_count": 10,
   "id": "81b491bf",
   "metadata": {},
   "outputs": [
    {
     "name": "stdout",
     "output_type": "stream",
     "text": [
      "[1. 2. 1.]\n"
     ]
    }
   ],
   "source": [
    "## there are many ways to do matrix multiplication : one of them is to use the @ operator\n",
    "b2=A@x\n",
    "print(b2)"
   ]
  },
  {
   "cell_type": "code",
   "execution_count": 11,
   "id": "c5516234",
   "metadata": {},
   "outputs": [
    {
     "name": "stdout",
     "output_type": "stream",
     "text": [
      "[1 2 1]\n"
     ]
    }
   ],
   "source": [
    "print(b)"
   ]
  },
  {
   "cell_type": "code",
   "execution_count": 12,
   "id": "4ac21606",
   "metadata": {},
   "outputs": [],
   "source": [
    "## note that b2 matches with b (aka b2==b)"
   ]
  },
  {
   "cell_type": "code",
   "execution_count": null,
   "id": "91ac4f1d",
   "metadata": {},
   "outputs": [],
   "source": []
  }
 ],
 "metadata": {
  "kernelspec": {
   "display_name": "Python 3",
   "language": "python",
   "name": "python3"
  },
  "language_info": {
   "codemirror_mode": {
    "name": "ipython",
    "version": 3
   },
   "file_extension": ".py",
   "mimetype": "text/x-python",
   "name": "python",
   "nbconvert_exporter": "python",
   "pygments_lexer": "ipython3",
   "version": "3.8.8"
  }
 },
 "nbformat": 4,
 "nbformat_minor": 5
}
